{
 "cells": [
  {
   "cell_type": "code",
   "execution_count": 1,
   "id": "focused-series",
   "metadata": {},
   "outputs": [],
   "source": [
    "import pennylane as qml\n",
    "from pennylane import numpy as np\n",
    "from braket.aws import AwsDevice\n",
    "\n",
    "from typing import List"
   ]
  },
  {
   "cell_type": "code",
   "execution_count": 2,
   "id": "synthetic-period",
   "metadata": {},
   "outputs": [],
   "source": [
    "n_wires = 2"
   ]
  },
  {
   "cell_type": "code",
   "execution_count": 3,
   "id": "superb-concrete",
   "metadata": {},
   "outputs": [
    {
     "data": {
      "text/plain": [
       "<BraketLocalQubitDevice device (wires=2, shots=1024) at 0x7f99b3b9a650>"
      ]
     },
     "execution_count": 3,
     "metadata": {},
     "output_type": "execute_result"
    }
   ],
   "source": [
    "local_simulator = qml.device(\n",
    "    \"braket.local.qubit\", \n",
    "    wires=n_wires,\n",
    "    shots=1024,\n",
    ")\n",
    "local_simulator"
   ]
  },
  {
   "cell_type": "code",
   "execution_count": 4,
   "id": "paperback-facing",
   "metadata": {},
   "outputs": [],
   "source": [
    "def circuit(params):\n",
    "    qml.templates.BasicEntanglerLayers(params, wires=range(n_wires))\n",
    "    return qml.expval(qml.PauliX(0))"
   ]
  },
  {
   "cell_type": "code",
   "execution_count": 5,
   "id": "seventh-calvin",
   "metadata": {},
   "outputs": [],
   "source": [
    "simulated_circuit = qml.QNode(circuit, local_simulator)"
   ]
  },
  {
   "cell_type": "code",
   "execution_count": 6,
   "id": "progressive-sentence",
   "metadata": {},
   "outputs": [],
   "source": [
    "def variational_classifier_linear(params):\n",
    "    meas = simulated_circuit(params)\n",
    "    rescaled = (meas + 1) / 2\n",
    "    return rescaled"
   ]
  },
  {
   "cell_type": "code",
   "execution_count": 7,
   "id": "decent-worry",
   "metadata": {},
   "outputs": [],
   "source": [
    "def squareloss(predictions: List[float], labels: List[int]) -> float:\n",
    "    loss = 0\n",
    "    for p, lab in zip(predictions, labels):\n",
    "        loss += (p - lab)**2  \n",
    "    return loss / len(labels)"
   ]
  },
  {
   "cell_type": "code",
   "execution_count": 8,
   "id": "humanitarian-staff",
   "metadata": {},
   "outputs": [],
   "source": [
    "def squareloss_cost(params, label: int) -> float:\n",
    "    prediction = variational_classifier_linear(params)\n",
    "    return squareloss([prediction], [label])"
   ]
  },
  {
   "cell_type": "code",
   "execution_count": 9,
   "id": "frequent-housing",
   "metadata": {},
   "outputs": [
    {
     "data": {
      "text/plain": [
       "tensor(0.48339844, requires_grad=True)"
      ]
     },
     "execution_count": 9,
     "metadata": {},
     "output_type": "execute_result"
    }
   ],
   "source": [
    "n_variational_layers = 1\n",
    "np.random.seed(2165)\n",
    "initial_params = qml.init.basic_entangler_layers_normal(n_variational_layers, n_wires)\n",
    "variational_classifier_linear(initial_params)\n",
    "# should give 0.48"
   ]
  },
  {
   "cell_type": "code",
   "execution_count": 10,
   "id": "compatible-imperial",
   "metadata": {},
   "outputs": [],
   "source": [
    "desired_output = 1"
   ]
  },
  {
   "cell_type": "code",
   "execution_count": 11,
   "id": "basic-pittsburgh",
   "metadata": {},
   "outputs": [
    {
     "data": {
      "text/plain": [
       "tensor(0.48925781, requires_grad=True)"
      ]
     },
     "execution_count": 11,
     "metadata": {},
     "output_type": "execute_result"
    }
   ],
   "source": [
    "opt = qml.NesterovMomentumOptimizer(0.1)\n",
    "\n",
    "params = initial_params\n",
    "n_iterations = 1\n",
    "for j in range(n_iterations):\n",
    "    params, prev_cost = opt.step_and_cost(lambda p: squareloss_cost(p, desired_output), params)\n",
    "\n",
    "variational_classifier_linear(params)\n",
    "\n",
    "# should give 0.49"
   ]
  },
  {
   "cell_type": "code",
   "execution_count": null,
   "id": "specified-chicago",
   "metadata": {},
   "outputs": [],
   "source": []
  },
  {
   "cell_type": "code",
   "execution_count": null,
   "id": "alternate-venue",
   "metadata": {},
   "outputs": [],
   "source": []
  },
  {
   "cell_type": "code",
   "execution_count": 12,
   "id": "southwest-appliance",
   "metadata": {},
   "outputs": [
    {
     "data": {
      "text/plain": [
       "[Device('name': Advantage_system1.1, 'arn': arn:aws:braket:::device/qpu/d-wave/Advantage_system1),\n",
       " Device('name': Aspen-9, 'arn': arn:aws:braket:::device/qpu/rigetti/Aspen-9),\n",
       " Device('name': DW_2000Q_6, 'arn': arn:aws:braket:::device/qpu/d-wave/DW_2000Q_6),\n",
       " Device('name': IonQ Device, 'arn': arn:aws:braket:::device/qpu/ionq/ionQdevice),\n",
       " Device('name': SV1, 'arn': arn:aws:braket:::device/quantum-simulator/amazon/sv1),\n",
       " Device('name': TN1, 'arn': arn:aws:braket:::device/quantum-simulator/amazon/tn1)]"
      ]
     },
     "execution_count": 12,
     "metadata": {},
     "output_type": "execute_result"
    }
   ],
   "source": [
    "# multiple criteria can be applied\n",
    "AwsDevice.get_devices(statuses=['ONLINE'])"
   ]
  },
  {
   "cell_type": "code",
   "execution_count": 13,
   "id": "assisted-metallic",
   "metadata": {},
   "outputs": [
    {
     "data": {
      "text/plain": [
       "<BraketAwsQubitDevice device (wires=2, shots=1024) at 0x7f99b3ac8110>"
      ]
     },
     "execution_count": 13,
     "metadata": {},
     "output_type": "execute_result"
    }
   ],
   "source": [
    "#device_arn = \"arn:aws:braket:::device/qpu/rigetti/Aspen-9\"\n",
    "#s3_folder = (\"amazon-braket-amazon-braket-qhack-reply-2021\", \"rigetti-test_2\")\n",
    "#rigetti = qml.device(\n",
    "#    \"braket.aws.qubit\",\n",
    "#    device_arn=device_arn,\n",
    "#    wires=n_wires,\n",
    "#    s3_destination_folder=s3_folder,\n",
    "#    parallel=True,\n",
    "#    shots=1024,\n",
    "#)\n",
    "#rigetti"
   ]
  },
  {
   "cell_type": "code",
   "execution_count": 14,
   "id": "engaging-railway",
   "metadata": {},
   "outputs": [],
   "source": [
    "qpu_circuit = qml.QNode(circuit, rigetti)"
   ]
  },
  {
   "cell_type": "code",
   "execution_count": 15,
   "id": "improving-strap",
   "metadata": {},
   "outputs": [],
   "source": [
    "def variational_classifier_linear_qpu(params):\n",
    "    meas = qpu_circuit(params)\n",
    "    rescaled = (meas + 1) / 2\n",
    "    return rescaled"
   ]
  },
  {
   "cell_type": "code",
   "execution_count": 16,
   "id": "marked-width",
   "metadata": {},
   "outputs": [],
   "source": [
    "def squareloss_cost_qpu(params, label: int) -> float:\n",
    "    prediction = variational_classifier_linear_qpu(params)\n",
    "    return squareloss([prediction], [label])"
   ]
  },
  {
   "cell_type": "code",
   "execution_count": 17,
   "id": "incorporate-banner",
   "metadata": {},
   "outputs": [
    {
     "data": {
      "text/plain": [
       "tensor(0.54199219, requires_grad=True)"
      ]
     },
     "execution_count": 17,
     "metadata": {},
     "output_type": "execute_result"
    }
   ],
   "source": [
    "#n_variational_layers = 1\n",
    "#np.random.seed(2165)\n",
    "#initial_params = qml.init.basic_entangler_layers_normal(n_variational_layers, n_wires)\n",
    "#variational_classifier_linear_qpu(initial_params)\n",
    "## should give 0.48"
   ]
  },
  {
   "cell_type": "code",
   "execution_count": 18,
   "id": "sporting-edition",
   "metadata": {},
   "outputs": [],
   "source": [
    "# THE CELL ABOVE RUNS IN 1 TASK"
   ]
  },
  {
   "cell_type": "code",
   "execution_count": 19,
   "id": "swiss-clearing",
   "metadata": {},
   "outputs": [],
   "source": [
    "desired_output = 1"
   ]
  },
  {
   "cell_type": "code",
   "execution_count": 20,
   "id": "according-skiing",
   "metadata": {},
   "outputs": [
    {
     "data": {
      "text/plain": [
       "tensor(0.52832031, requires_grad=True)"
      ]
     },
     "execution_count": 20,
     "metadata": {},
     "output_type": "execute_result"
    }
   ],
   "source": [
    "#opt = qml.NesterovMomentumOptimizer(0.2)\n",
    "#\n",
    "#params = initial_params\n",
    "#n_iterations = 1\n",
    "#for j in range(n_iterations):\n",
    "#    params, prev_cost = opt.step_and_cost(lambda p: squareloss_cost_qpu(p, desired_output), params)\n",
    "#\n",
    "#variational_classifier_linear_qpu(params)\n",
    "#\n",
    "## should give 0.49"
   ]
  },
  {
   "cell_type": "code",
   "execution_count": null,
   "id": "marine-consensus",
   "metadata": {},
   "outputs": [],
   "source": [
    "# THE CELL ABOVE RUNS IN 5 TASKS\n",
    "# 2 Tasks for each parameter during gradient\n",
    "# 1 Task for basic circuit at the end"
   ]
  },
  {
   "cell_type": "code",
   "execution_count": 21,
   "id": "amino-philosophy",
   "metadata": {},
   "outputs": [
    {
     "data": {
      "text/plain": [
       "tensor([[-0.07350859,  0.14562287]], requires_grad=True)"
      ]
     },
     "execution_count": 21,
     "metadata": {},
     "output_type": "execute_result"
    }
   ],
   "source": [
    "initial_params"
   ]
  }
 ],
 "metadata": {
  "kernelspec": {
   "display_name": "conda_braket",
   "language": "python",
   "name": "conda_braket"
  },
  "language_info": {
   "codemirror_mode": {
    "name": "ipython",
    "version": 3
   },
   "file_extension": ".py",
   "mimetype": "text/x-python",
   "name": "python",
   "nbconvert_exporter": "python",
   "pygments_lexer": "ipython3",
   "version": "3.7.9"
  }
 },
 "nbformat": 4,
 "nbformat_minor": 5
}
