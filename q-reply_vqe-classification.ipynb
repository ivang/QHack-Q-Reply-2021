{
 "cells": [
  {
   "cell_type": "code",
   "execution_count": 1,
   "id": "meaning-cinema",
   "metadata": {},
   "outputs": [
    {
     "name": "stdout",
     "output_type": "stream",
     "text": [
      "Requirement already satisfied: scikit-learn in /home/ec2-user/anaconda3/envs/Braket/lib/python3.7/site-packages (0.24.1)\n",
      "Requirement already satisfied: threadpoolctl>=2.0.0 in /home/ec2-user/anaconda3/envs/Braket/lib/python3.7/site-packages (from scikit-learn) (2.1.0)\n",
      "Requirement already satisfied: scipy>=0.19.1 in /home/ec2-user/anaconda3/envs/Braket/lib/python3.7/site-packages (from scikit-learn) (1.5.2)\n",
      "Requirement already satisfied: joblib>=0.11 in /home/ec2-user/anaconda3/envs/Braket/lib/python3.7/site-packages (from scikit-learn) (1.0.1)\n",
      "Requirement already satisfied: numpy>=1.13.3 in /home/ec2-user/anaconda3/envs/Braket/lib/python3.7/site-packages (from scikit-learn) (1.19.1)\n"
     ]
    }
   ],
   "source": [
    "!pip install scikit-learn"
   ]
  },
  {
   "cell_type": "code",
   "execution_count": 2,
   "id": "arabic-opera",
   "metadata": {},
   "outputs": [],
   "source": [
    "import pennylane as qml\n",
    "from pennylane import numpy as np\n",
    "from braket.aws import AwsDevice\n",
    "\n",
    "from typing import List\n",
    "\n",
    "import data_loader as dl\n",
    "\n",
    "from sklearn.decomposition import PCA\n",
    "from sklearn import svm\n",
    "from sklearn.metrics import confusion_matrix, classification_report\n",
    "import matplotlib.pyplot as plt\n",
    "import math"
   ]
  },
  {
   "cell_type": "code",
   "execution_count": 3,
   "id": "driving-negative",
   "metadata": {},
   "outputs": [],
   "source": [
    "def inspect_classification_boundaries(\n",
    "    variational_classifier, \n",
    "    params,\n",
    "    plot_range: float,\n",
    "    train_coordinates = None,\n",
    "    train_labels = None,\n",
    "    grid_size: int = 30,\n",
    "):\n",
    "    assert grid_size % 2 == 0, \"Please input an even grid_size\"\n",
    "    \n",
    "    x_range = [2 * plot_range * j / grid_size for j in range(-grid_size // 2, grid_size // 2 + 1, 1)]\n",
    "    y_range = x_range\n",
    "    grid_data = np.array([[j, k] for j in x_range for k in y_range])\n",
    "    predictions = [variational_classifier_linear(params, f) for f in grid_data.reshape(-1, 1, 2)]\n",
    "    pred_labels = 1 * (np.array(predictions) > 0.5)\n",
    "    #plt.scatter(x=grid_data[:,0], y=grid_data[:,1], c=pred_labels)\n",
    "    #plt.show()\n",
    "    plt.contourf(x_range, y_range, pred_labels.reshape(grid_size + 1, grid_size + 1).T, levels=[-0.1, 0.5, 1.1], colors=[\"purple\", \"yellow\"], alpha=0.7)\n",
    "    if (train_coordinates is not None) and (train_labels is not None):\n",
    "        plt.scatter(x=train_coordinates.reshape(-1,2)[:,0], y=train_coordinates.reshape(-1,2)[:,1], c=train_labels)\n",
    "    plt.show()"
   ]
  },
  {
   "cell_type": "code",
   "execution_count": null,
   "id": "veterinary-antique",
   "metadata": {},
   "outputs": [],
   "source": [
    "inspect_classification_boundaries(\n",
    "    variational_classifier_linear, \n",
    "    params,\n",
    "    plot_range=plot_range,\n",
    "    train_coordinates,\n",
    "    train_labels,\n",
    "    grid_size=30,\n",
    ") "
   ]
  },
  {
   "cell_type": "markdown",
   "id": "varied-denmark",
   "metadata": {},
   "source": [
    "Get devices"
   ]
  },
  {
   "cell_type": "code",
   "execution_count": 4,
   "id": "parallel-pilot",
   "metadata": {},
   "outputs": [],
   "source": [
    "# multiple criteria can be applied\n",
    "#AwsDevice.get_devices(types=['QPU'],statuses=['ONLINE'])"
   ]
  },
  {
   "cell_type": "code",
   "execution_count": 5,
   "id": "stock-wichita",
   "metadata": {},
   "outputs": [],
   "source": [
    "#s3 = (\"my-bucket\", \"my-prefix\")\n",
    "# device = qml.device(\"braket.aws.qubit\", device_arn=\"arn:aws:braket:::device/qpu/rigetti/Aspen-9\", s3_destination_folder=s3, wires=n_wires)"
   ]
  },
  {
   "cell_type": "markdown",
   "id": "adapted-prototype",
   "metadata": {},
   "source": [
    "Define local device"
   ]
  },
  {
   "cell_type": "code",
   "execution_count": 6,
   "id": "civil-internship",
   "metadata": {},
   "outputs": [],
   "source": [
    "n_wires = 2"
   ]
  },
  {
   "cell_type": "code",
   "execution_count": 7,
   "id": "breathing-royalty",
   "metadata": {},
   "outputs": [
    {
     "data": {
      "text/plain": [
       "<BraketLocalQubitDevice device (wires=2, shots=256) at 0x7fe28bf46190>"
      ]
     },
     "execution_count": 7,
     "metadata": {},
     "output_type": "execute_result"
    }
   ],
   "source": [
    "simulator = qml.device(\n",
    "    \"braket.local.qubit\", \n",
    "    wires=n_wires,\n",
    "    shots=256,\n",
    ")\n",
    "simulator"
   ]
  },
  {
   "cell_type": "markdown",
   "id": "nominated-copying",
   "metadata": {},
   "source": [
    "Circuit architecture"
   ]
  },
  {
   "cell_type": "code",
   "execution_count": 8,
   "id": "marine-universal",
   "metadata": {},
   "outputs": [],
   "source": [
    "@qml.template\n",
    "def custom_ansatz(weights, wires):\n",
    "    for w in weights:\n",
    "        for i, wire in enumerate(wires):\n",
    "            qml.RY(w[wire], wires=wire)\n",
    "            qml.CZ(wires=(i, i + 1)) if i + 1 < len(wires) else qml.CNOT(wires=(i, 0))"
   ]
  },
  {
   "cell_type": "code",
   "execution_count": 9,
   "id": "verbal-swift",
   "metadata": {},
   "outputs": [],
   "source": [
    "def circuit(params, features):\n",
    "    qml.templates.BasicEntanglerLayers(features, wires=range(n_wires))\n",
    "    qml.templates.StronglyEntanglingLayers(params, wires=range(n_wires))\n",
    "    #qml.templates.BasicEntanglerLayers(params, wires=range(n_wires))\n",
    "    #custom_ansatz(params, wires=range(n_wires))\n",
    "    return qml.expval(qml.PauliX(0))"
   ]
  },
  {
   "cell_type": "code",
   "execution_count": 10,
   "id": "intense-turner",
   "metadata": {},
   "outputs": [],
   "source": [
    "simulated_circuit = qml.QNode(circuit, simulator)"
   ]
  },
  {
   "cell_type": "markdown",
   "id": "solar-dispute",
   "metadata": {},
   "source": [
    "Wrappers to rescale circuit output between 0 and 1"
   ]
  },
  {
   "cell_type": "code",
   "execution_count": 11,
   "id": "early-colleague",
   "metadata": {},
   "outputs": [],
   "source": [
    "def variational_classifier_sigmoid(params, features):\n",
    "    meas = simulated_circuit(params, features)\n",
    "    sigmoid = 1 / (1 + np.exp(-5 * meas))\n",
    "    return sigmoid"
   ]
  },
  {
   "cell_type": "code",
   "execution_count": 12,
   "id": "modified-milton",
   "metadata": {},
   "outputs": [],
   "source": [
    "def variational_classifier_linear(params, features):\n",
    "    meas = simulated_circuit(params, features)\n",
    "    rescaled = (meas + 1) / 2\n",
    "    return rescaled"
   ]
  },
  {
   "cell_type": "code",
   "execution_count": 13,
   "id": "mysterious-catalyst",
   "metadata": {},
   "outputs": [
    {
     "data": {
      "text/plain": [
       "tensor(0.66796875, requires_grad=True)"
      ]
     },
     "execution_count": 13,
     "metadata": {},
     "output_type": "execute_result"
    }
   ],
   "source": [
    "n_variational_layers = 2\n",
    "np.random.seed(1967)\n",
    "initial_params = qml.init.strong_ent_layers_normal(n_variational_layers, n_wires)\n",
    "variational_classifier_linear(initial_params, [[0.2] * n_wires])"
   ]
  },
  {
   "cell_type": "markdown",
   "id": "champion-thumbnail",
   "metadata": {},
   "source": [
    "Loss and cost functions for the VQC"
   ]
  },
  {
   "cell_type": "code",
   "execution_count": 14,
   "id": "expensive-plumbing",
   "metadata": {},
   "outputs": [],
   "source": [
    "def logloss(predictions: List[float], labels: List[int]) -> float:\n",
    "    loss = 0\n",
    "    for p, lab in zip(predictions, labels):\n",
    "        loss += - lab * np.log(p) - (1 - lab) * np.log(1 - p) \n",
    "    return loss / len(labels)"
   ]
  },
  {
   "cell_type": "code",
   "execution_count": 15,
   "id": "artificial-westminster",
   "metadata": {},
   "outputs": [],
   "source": [
    "def squareloss(predictions: List[float], labels: List[int]) -> float:\n",
    "    loss = 0\n",
    "    for p, lab in zip(predictions, labels):\n",
    "        loss += (p - lab)**2 \n",
    "    return loss / len(labels)"
   ]
  },
  {
   "cell_type": "code",
   "execution_count": 16,
   "id": "competent-assault",
   "metadata": {},
   "outputs": [],
   "source": [
    "def logloss_cost(params, features: List[List[float]], labels: List[int]) -> float:\n",
    "    predictions = [variational_classifier_sigmoid(params, f) for f in features]\n",
    "    return logloss(predictions, labels)"
   ]
  },
  {
   "cell_type": "code",
   "execution_count": 17,
   "id": "collaborative-spirit",
   "metadata": {},
   "outputs": [],
   "source": [
    "def squareloss_cost(params, features: List[List[float]], labels: List[int]) -> float:\n",
    "    predictions = [variational_classifier_linear(params, f) for f in features]\n",
    "    return squareloss(predictions, labels)"
   ]
  },
  {
   "cell_type": "markdown",
   "id": "prescribed-shark",
   "metadata": {},
   "source": [
    "Load data"
   ]
  },
  {
   "cell_type": "code",
   "execution_count": 18,
   "id": "genuine-scanner",
   "metadata": {},
   "outputs": [],
   "source": [
    "n_components = n_wires\n",
    "train_df, test_df = dl.load_train_test_pca(n_components)\n",
    "\n",
    "max_value = np.max(abs(train_df.values))\n",
    "plot_range = 3\n",
    "\n",
    "train_df.iloc[:,:-1] = train_df.iloc[:,:-1] * plot_range / max_value\n",
    "test_df.iloc[:,:-1] = test_df.iloc[:,:-1] * plot_range / max_value\n",
    "\n",
    "train_coordinates = train_df.iloc[:,:-1].values.reshape(-1, 1, n_components)\n",
    "train_labels = train_df.label\n",
    "test_coordinates = test_df.iloc[:,:-1].values.reshape(-1, 1, n_components)\n",
    "test_labels = test_df.label"
   ]
  },
  {
   "cell_type": "code",
   "execution_count": 19,
   "id": "satellite-butterfly",
   "metadata": {},
   "outputs": [
    {
     "data": {
      "text/html": [
       "<div>\n",
       "<style scoped>\n",
       "    .dataframe tbody tr th:only-of-type {\n",
       "        vertical-align: middle;\n",
       "    }\n",
       "\n",
       "    .dataframe tbody tr th {\n",
       "        vertical-align: top;\n",
       "    }\n",
       "\n",
       "    .dataframe thead th {\n",
       "        text-align: right;\n",
       "    }\n",
       "</style>\n",
       "<table border=\"1\" class=\"dataframe\">\n",
       "  <thead>\n",
       "    <tr style=\"text-align: right;\">\n",
       "      <th></th>\n",
       "      <th>pca_1</th>\n",
       "      <th>pca_2</th>\n",
       "      <th>label</th>\n",
       "    </tr>\n",
       "  </thead>\n",
       "  <tbody>\n",
       "    <tr>\n",
       "      <th>count</th>\n",
       "      <td>3.048000e+03</td>\n",
       "      <td>3.048000e+03</td>\n",
       "      <td>3048.000000</td>\n",
       "    </tr>\n",
       "    <tr>\n",
       "      <th>mean</th>\n",
       "      <td>5.827942e-18</td>\n",
       "      <td>-1.398706e-17</td>\n",
       "      <td>0.433071</td>\n",
       "    </tr>\n",
       "    <tr>\n",
       "      <th>std</th>\n",
       "      <td>6.437732e-01</td>\n",
       "      <td>6.437732e-01</td>\n",
       "      <td>0.495582</td>\n",
       "    </tr>\n",
       "    <tr>\n",
       "      <th>min</th>\n",
       "      <td>-1.684310e+00</td>\n",
       "      <td>-2.090419e+00</td>\n",
       "      <td>0.000000</td>\n",
       "    </tr>\n",
       "    <tr>\n",
       "      <th>25%</th>\n",
       "      <td>-5.052557e-01</td>\n",
       "      <td>-4.369367e-01</td>\n",
       "      <td>0.000000</td>\n",
       "    </tr>\n",
       "    <tr>\n",
       "      <th>50%</th>\n",
       "      <td>-1.015354e-01</td>\n",
       "      <td>-1.660771e-02</td>\n",
       "      <td>0.000000</td>\n",
       "    </tr>\n",
       "    <tr>\n",
       "      <th>75%</th>\n",
       "      <td>5.313561e-01</td>\n",
       "      <td>4.241519e-01</td>\n",
       "      <td>1.000000</td>\n",
       "    </tr>\n",
       "    <tr>\n",
       "      <th>max</th>\n",
       "      <td>1.910219e+00</td>\n",
       "      <td>3.000000e+00</td>\n",
       "      <td>1.000000</td>\n",
       "    </tr>\n",
       "  </tbody>\n",
       "</table>\n",
       "</div>"
      ],
      "text/plain": [
       "              pca_1         pca_2        label\n",
       "count  3.048000e+03  3.048000e+03  3048.000000\n",
       "mean   5.827942e-18 -1.398706e-17     0.433071\n",
       "std    6.437732e-01  6.437732e-01     0.495582\n",
       "min   -1.684310e+00 -2.090419e+00     0.000000\n",
       "25%   -5.052557e-01 -4.369367e-01     0.000000\n",
       "50%   -1.015354e-01 -1.660771e-02     0.000000\n",
       "75%    5.313561e-01  4.241519e-01     1.000000\n",
       "max    1.910219e+00  3.000000e+00     1.000000"
      ]
     },
     "execution_count": 19,
     "metadata": {},
     "output_type": "execute_result"
    }
   ],
   "source": [
    "train_df.describe()"
   ]
  },
  {
   "cell_type": "code",
   "execution_count": 20,
   "id": "hungarian-virus",
   "metadata": {},
   "outputs": [
    {
     "data": {
      "text/plain": [
       "(-2.0904191806629595, 3.0)"
      ]
     },
     "execution_count": 20,
     "metadata": {},
     "output_type": "execute_result"
    }
   ],
   "source": [
    "np.min(train_coordinates), np.max(train_coordinates)"
   ]
  },
  {
   "cell_type": "markdown",
   "id": "fallen-uncertainty",
   "metadata": {},
   "source": [
    "Initialize random parameters for the variational part of the circuits"
   ]
  },
  {
   "cell_type": "code",
   "execution_count": 21,
   "id": "committed-norman",
   "metadata": {},
   "outputs": [],
   "source": [
    "n_variational_layers = 2\n",
    "np.random.seed(1967)\n",
    "initial_params = qml.init.strong_ent_layers_normal(n_variational_layers, n_wires)"
   ]
  },
  {
   "cell_type": "markdown",
   "id": "theoretical-theater",
   "metadata": {},
   "source": [
    "Optimize"
   ]
  },
  {
   "cell_type": "code",
   "execution_count": 22,
   "id": "fatal-edgar",
   "metadata": {},
   "outputs": [],
   "source": [
    "opt = qml.NesterovMomentumOptimizer()"
   ]
  },
  {
   "cell_type": "code",
   "execution_count": null,
   "id": "superb-server",
   "metadata": {},
   "outputs": [
    {
     "name": "stdout",
     "output_type": "stream",
     "text": [
      "Step: 0, Cost:  0.31604217529296874\n"
     ]
    },
    {
     "data": {
      "image/png": "[encoded data removed]",
      "text/plain": [
       "<Figure size 432x288 with 1 Axes>"
      ]
     },
     "metadata": {
      "needs_background": "light"
     },
     "output_type": "display_data"
    },
    {
     "name": "stdout",
     "output_type": "stream",
     "text": [
      "Step: 10, Cost:  0.2871710205078125\n"
     ]
    },
    {
     "data": {
      "image/png": "[encoded data removed]",
      "text/plain": [
       "<Figure size 432x288 with 1 Axes>"
      ]
     },
     "metadata": {
      "needs_background": "light"
     },
     "output_type": "display_data"
    },
    {
     "name": "stdout",
     "output_type": "stream",
     "text": [
      "Step: 20, Cost:  0.2411456298828125\n"
     ]
    },
    {
     "data": {
      "image/png": "[encoded data removed]",
      "text/plain": [
       "<Figure size 432x288 with 1 Axes>"
      ]
     },
     "metadata": {
      "needs_background": "light"
     },
     "output_type": "display_data"
    },
    {
     "name": "stdout",
     "output_type": "stream",
     "text": [
      "Step: 30, Cost:  0.22787567138671874\n"
     ]
    },
    {
     "data": {
      "image/png": "[encoded data removed]",
      "text/plain": [
       "<Figure size 432x288 with 1 Axes>"
      ]
     },
     "metadata": {
      "needs_background": "light"
     },
     "output_type": "display_data"
    },
    {
     "name": "stdout",
     "output_type": "stream",
     "text": [
      "Step: 40, Cost:  0.23159881591796874\n"
     ]
    },
    {
     "data": {
      "image/png": "[encoded data removed]",
      "text/plain": [
       "<Figure size 432x288 with 1 Axes>"
      ]
     },
     "metadata": {
      "needs_background": "light"
     },
     "output_type": "display_data"
    },
    {
     "name": "stdout",
     "output_type": "stream",
     "text": [
      "Step: 50, Cost:  0.19978668212890624\n"
     ]
    },
    {
     "data": {
      "image/png": "[encoded data removed]",
      "text/plain": [
       "<Figure size 432x288 with 1 Axes>"
      ]
     },
     "metadata": {
      "needs_background": "light"
     },
     "output_type": "display_data"
    },
    {
     "name": "stdout",
     "output_type": "stream",
     "text": [
      "Step: 60, Cost:  0.20696044921875\n"
     ]
    },
    {
     "data": {
      "image/png": "[encoded data removed]",
      "text/plain": [
       "<Figure size 432x288 with 1 Axes>"
      ]
     },
     "metadata": {
      "needs_background": "light"
     },
     "output_type": "display_data"
    },
    {
     "name": "stdout",
     "output_type": "stream",
     "text": [
      "Step: 70, Cost:  0.146793212890625\n"
     ]
    },
    {
     "data": {
      "image/png": "[encoded data removed]",
      "text/plain": [
       "<Figure size 432x288 with 1 Axes>"
      ]
     },
     "metadata": {
      "needs_background": "light"
     },
     "output_type": "display_data"
    },
    {
     "name": "stdout",
     "output_type": "stream",
     "text": [
      "Step: 80, Cost:  0.16794677734375\n"
     ]
    },
    {
     "data": {
      "image/png": "[encoded data removed]",
      "text/plain": [
       "<Figure size 432x288 with 1 Axes>"
      ]
     },
     "metadata": {
      "needs_background": "light"
     },
     "output_type": "display_data"
    },
    {
     "name": "stdout",
     "output_type": "stream",
     "text": [
      "Step: 90, Cost:  0.16450927734375\n"
     ]
    },
    {
     "data": {
      "image/png": "[encoded data removed]",
      "text/plain": [
       "<Figure size 432x288 with 1 Axes>"
      ]
     },
     "metadata": {
      "needs_background": "light"
     },
     "output_type": "display_data"
    },
    {
     "name": "stdout",
     "output_type": "stream",
     "text": [
      "Step: 100, Cost:  0.159713134765625\n"
     ]
    },
    {
     "data": {
      "image/png": "[encoded data removed]",
      "text/plain": [
       "<Figure size 432x288 with 1 Axes>"
      ]
     },
     "metadata": {
      "needs_background": "light"
     },
     "output_type": "display_data"
    }
   ],
   "source": [
    "params = initial_params\n",
    "\n",
    "batch_size = 50\n",
    "\n",
    "for j in range(120):\n",
    "    # Get a batch of data\n",
    "    batch_idx = np.random.choice(range(len(train_labels)), batch_size, replace=False)\n",
    "    batch_features = train_coordinates[batch_idx]\n",
    "    batch_labels = train_labels[batch_idx]\n",
    "\n",
    "    params, prev_cost = opt.step_and_cost(lambda p: squareloss_cost(p, batch_features, batch_labels), params)\n",
    "    \n",
    "    current_cost = squareloss_cost(params, batch_features, batch_labels)\n",
    "    if j % 10 == 0:\n",
    "        print(f\"Step: {j}, Cost: \", current_cost)\n",
    "        \n",
    "        inspect_classification_boundaries(\n",
    "            variational_classifier_linear, \n",
    "            params,\n",
    "            plot_range=plot_range,\n",
    "            grid_size=30,\n",
    "        )    \n",
    "    #if abs(current_cost - prev_cost) < 0.001 or current_cost < 0.3:\n",
    "    #    break\n",
    "print(f\"Final cost: {current_cost}\")"
   ]
  },
  {
   "cell_type": "code",
   "execution_count": null,
   "id": "hairy-korean",
   "metadata": {},
   "outputs": [],
   "source": [
    "train_predictions = [variational_classifier_linear(params, f) for f in train_coordinates]\n",
    "test_predictions = [variational_classifier_linear(params, f) for f in test_coordinates]"
   ]
  },
  {
   "cell_type": "code",
   "execution_count": null,
   "id": "italian-criticism",
   "metadata": {},
   "outputs": [],
   "source": [
    "pred_labels = 1 * (np.array(train_predictions) > 0.5)\n",
    "\n",
    "print(confusion_matrix(y_true=train_labels, y_pred=pred_labels))\n",
    "\n",
    "print(classification_report(y_true=train_labels, y_pred=pred_labels))"
   ]
  },
  {
   "cell_type": "code",
   "execution_count": null,
   "id": "compatible-reading",
   "metadata": {},
   "outputs": [],
   "source": [
    "pred_labels = 1 * (np.array(test_predictions) > 0.5)\n",
    "\n",
    "print(confusion_matrix(y_true=test_labels, y_pred=pred_labels))\n",
    "\n",
    "print(classification_report(y_true=test_labels, y_pred=pred_labels))"
   ]
  },
  {
   "cell_type": "code",
   "execution_count": null,
   "id": "greatest-recycling",
   "metadata": {},
   "outputs": [],
   "source": [
    "inspect_classification_boundaries(\n",
    "    variational_classifier_linear, \n",
    "    params,\n",
    "    plot_range=plot_range,\n",
    "    grid_size=30,\n",
    ")    \n",
    "\n",
    "plt.scatter(x=train_coordinates.reshape(-1,2)[:,0], y=train_coordinates.reshape(-1,2)[:,1], c=train_labels)\n",
    "plt.xlim(-plot_range,plot_range)\n",
    "plt.ylim(-plot_range,plot_range)\n",
    "plt.show()"
   ]
  },
  {
   "cell_type": "markdown",
   "id": "quick-project",
   "metadata": {},
   "source": [
    "Classical comparison"
   ]
  },
  {
   "cell_type": "code",
   "execution_count": null,
   "id": "signed-block",
   "metadata": {},
   "outputs": [],
   "source": [
    "X_train = train_coordinates.reshape(-1, n_components)\n",
    "X_test = test_coordinates.reshape(-1, n_components)\n",
    "y_train = train_labels\n",
    "y_test = test_labels\n",
    "\n",
    "clf = svm.SVC()\n",
    "clf.fit(X_train, y_train)\n",
    " \n",
    "pred_classic = clf.predict(X_train)\n",
    "print(confusion_matrix(y_true=train_labels, y_pred=pred_classic))\n",
    "print(classification_report(y_true=train_labels, y_pred=pred_classic))\n",
    "\n",
    "pred_classic = clf.predict(X_test)\n",
    "print(confusion_matrix(y_true=test_labels, y_pred=pred_classic))\n",
    "print(classification_report(y_true=test_labels, y_pred=pred_classic))"
   ]
  },
  {
   "cell_type": "code",
   "execution_count": null,
   "id": "contrary-mongolia",
   "metadata": {},
   "outputs": [],
   "source": [
    "n_size = 30\n",
    "grid_data = np.array([[2 * plot_range * j / n_size, 2 * plot_range * k / n_size] for j in range(-n_size // 2, n_size // 2 + 1, 1) for k in range(-n_size // 2, n_size // 2 + 1, 1)])\n",
    "predictions = clf.predict(grid_data)\n",
    "pred_labels = 1 * (np.array(predictions) > 0.5)\n",
    "\n",
    "plt.scatter(x=grid_data[:,0], y=grid_data[:,1], c=pred_labels)\n",
    "plt.show()\n",
    "\n",
    "plt.scatter(x=train_coordinates.reshape(-1,2)[:,0], y=train_coordinates.reshape(-1,2)[:,1], c=train_labels)\n",
    "plt.xlim(-plot_range,plot_range)\n",
    "plt.ylim(-plot_range,plot_range)\n",
    "plt.show()"
   ]
  },
  {
   "cell_type": "code",
   "execution_count": null,
   "id": "exciting-alfred",
   "metadata": {},
   "outputs": [],
   "source": []
  },
  {
   "cell_type": "code",
   "execution_count": null,
   "id": "immune-green",
   "metadata": {},
   "outputs": [],
   "source": []
  },
  {
   "cell_type": "code",
   "execution_count": null,
   "id": "provincial-bradford",
   "metadata": {},
   "outputs": [],
   "source": []
  },
  {
   "cell_type": "code",
   "execution_count": null,
   "id": "honey-venice",
   "metadata": {},
   "outputs": [],
   "source": [
    "#energy_expval = qml.ExpvalCost(circuit, h, simulator, optimize=True)"
   ]
  },
  {
   "cell_type": "code",
   "execution_count": null,
   "id": "adopted-transfer",
   "metadata": {},
   "outputs": [],
   "source": []
  },
  {
   "cell_type": "code",
   "execution_count": null,
   "id": "understanding-honduras",
   "metadata": {},
   "outputs": [],
   "source": []
  },
  {
   "cell_type": "code",
   "execution_count": null,
   "id": "dense-cologne",
   "metadata": {},
   "outputs": [],
   "source": []
  },
  {
   "cell_type": "code",
   "execution_count": null,
   "id": "provincial-monthly",
   "metadata": {},
   "outputs": [],
   "source": []
  }
 ],
 "metadata": {
  "kernelspec": {
   "display_name": "conda_braket",
   "language": "python",
   "name": "conda_braket"
  },
  "language_info": {
   "codemirror_mode": {
    "name": "ipython",
    "version": 3
   },
   "file_extension": ".py",
   "mimetype": "text/x-python",
   "name": "python",
   "nbconvert_exporter": "python",
   "pygments_lexer": "ipython3",
   "version": "3.7.9"
  }
 },
 "nbformat": 4,
 "nbformat_minor": 5
}
